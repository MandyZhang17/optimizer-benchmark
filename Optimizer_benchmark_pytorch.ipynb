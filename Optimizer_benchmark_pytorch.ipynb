{
  "nbformat": 4,
  "nbformat_minor": 0,
  "metadata": {
    "colab": {
      "name": "Optimizer-benchmark-pytorch.ipynb",
      "provenance": [],
      "collapsed_sections": [],
      "include_colab_link": true
    },
    "kernelspec": {
      "name": "python3",
      "display_name": "Python 3"
    },
    "accelerator": "GPU"
  },
  "cells": [
    {
      "cell_type": "markdown",
      "metadata": {
        "id": "view-in-github",
        "colab_type": "text"
      },
      "source": [
        "<a href=\"https://colab.research.google.com/github/ifeherva/optimizer-benchmark/blob/master/Optimizer_benchmark_pytorch.ipynb\" target=\"_parent\"><img src=\"https://colab.research.google.com/assets/colab-badge.svg\" alt=\"Open In Colab\"/></a>"
      ]
    },
    {
      "cell_type": "markdown",
      "metadata": {
        "id": "MmID3PR8ngYT",
        "colab_type": "text"
      },
      "source": [
        "# Benchmark a stochastic gradient descent algorithm on CIFAR10\n",
        "\n",
        "See the [github repository](https://github.com/ifeherva/optimizer-benchmark) for details."
      ]
    },
    {
      "cell_type": "markdown",
      "metadata": {
        "id": "NopfIZGtkOUL",
        "colab_type": "text"
      },
      "source": [
        "Clone github repository"
      ]
    },
    {
      "cell_type": "code",
      "metadata": {
        "id": "jKL58Eakjt9f",
        "colab_type": "code",
        "colab": {
          "base_uri": "https://localhost:8080/",
          "height": 51
        },
        "outputId": "cf3f8b46-2ca1-4b9e-eefe-6f898a76351b"
      },
      "source": [
        "!git clone -l -s git://github.com/ifeherva/optimizer-benchmark.git cloned-repo\n",
        "%cd cloned-repo\n",
        "!pip install tqdm wandb"
      ],
      "execution_count": 1,
      "outputs": [
        {
          "output_type": "stream",
          "text": [
            "fatal: destination path 'cloned-repo' already exists and is not an empty directory.\n",
            "/content/cloned-repo\n"
          ],
          "name": "stdout"
        }
      ]
    },
    {
      "cell_type": "code",
      "metadata": {
        "id": "j4kMfxvpkYoQ",
        "colab_type": "code",
        "colab": {}
      },
      "source": [
        "from train_cifar10 import parse_args, train_cifar10"
      ],
      "execution_count": 0,
      "outputs": []
    },
    {
      "cell_type": "code",
      "metadata": {
        "id": "eAevft6vkzGO",
        "colab_type": "code",
        "colab": {}
      },
      "source": [
        "run_configuration = [\n",
        "    '--model', 'resnet34',\n",
        "    '--optim', 'adam',  # Which optimizer to use\n",
        "    '--epochs', '1',  # Default is 200\n",
        "    '--wandb-project', 'optimizer-evaluation' # Uncomment line to store data in Weights and Biases, dont' forget to create the project first!\n",
        "]"
      ],
      "execution_count": 0,
      "outputs": []
    },
    {
      "cell_type": "code",
      "metadata": {
        "id": "lCTX65MXli4I",
        "colab_type": "code",
        "colab": {}
      },
      "source": [
        "run_config = parse_args(run_configuration)"
      ],
      "execution_count": 0,
      "outputs": []
    },
    {
      "cell_type": "markdown",
      "metadata": {
        "id": "lHPzjmaoosV3",
        "colab_type": "text"
      },
      "source": [
        "Execute training"
      ]
    },
    {
      "cell_type": "code",
      "metadata": {
        "id": "7SIV0uopoaxS",
        "colab_type": "code",
        "colab": {
          "base_uri": "https://localhost:8080/",
          "height": 255
        },
        "outputId": "1ab51efc-dced-4aef-c68d-d326b0fd4266"
      },
      "source": [
        "train_cifar10(*run_config)"
      ],
      "execution_count": 7,
      "outputs": [
        {
          "output_type": "stream",
          "text": [
            "Files already downloaded and verified\n",
            "Files already downloaded and verified\n"
          ],
          "name": "stdout"
        },
        {
          "output_type": "display_data",
          "data": {
            "application/javascript": [
              "\n",
              "        window._wandbApiKey = new Promise((resolve, reject) => {\n",
              "            function loadScript(url) {\n",
              "            return new Promise(function(resolve, reject) {\n",
              "                let newScript = document.createElement(\"script\");\n",
              "                newScript.onerror = reject;\n",
              "                newScript.onload = resolve;\n",
              "                document.body.appendChild(newScript);\n",
              "                newScript.src = url;\n",
              "            });\n",
              "            }\n",
              "            loadScript(\"https://cdn.jsdelivr.net/npm/postmate/build/postmate.min.js\").then(() => {\n",
              "            const iframe = document.createElement('iframe')\n",
              "            iframe.style.cssText = \"width:0;height:0;border:none\"\n",
              "            document.body.appendChild(iframe)\n",
              "            const handshake = new Postmate({\n",
              "                container: iframe,\n",
              "                url: 'https://app.wandb.ai/authorize'\n",
              "            });\n",
              "            const timeout = setTimeout(() => reject(\"Couldn't auto authenticate\"), 5000)\n",
              "            handshake.then(function(child) {\n",
              "                child.on('authorize', data => {\n",
              "                    clearTimeout(timeout)\n",
              "                    resolve(data)\n",
              "                });\n",
              "            });\n",
              "            })\n",
              "        });\n",
              "    "
            ],
            "text/plain": [
              "<IPython.core.display.Javascript object>"
            ]
          },
          "metadata": {
            "tags": []
          }
        },
        {
          "output_type": "stream",
          "text": [
            "wandb: ERROR Not authenticated.  Copy a key from https://app.wandb.ai/authorize\n"
          ],
          "name": "stderr"
        },
        {
          "output_type": "stream",
          "text": [
            "API Key: ··········\n"
          ],
          "name": "stdout"
        },
        {
          "output_type": "stream",
          "text": [
            "wandb: Appending key for api.wandb.ai to your netrc file: /root/.netrc\n"
          ],
          "name": "stderr"
        },
        {
          "output_type": "display_data",
          "data": {
            "text/html": [
              "\n",
              "                Logging results to <a href=\"https://wandb.com\" target=\"_blank\">Weights & Biases</a> <a href=\"https://docs.wandb.com/integrations/jupyter.html\" target=\"_blank\">(Documentation)</a>.<br/>\n",
              "                Project page: <a href=\"https://app.wandb.ai/ifeherva/optimizer-evaluation\" target=\"_blank\">https://app.wandb.ai/ifeherva/optimizer-evaluation</a><br/>\n",
              "                Run page: <a href=\"https://app.wandb.ai/ifeherva/optimizer-evaluation/runs/q5u23hkn\" target=\"_blank\">https://app.wandb.ai/ifeherva/optimizer-evaluation/runs/q5u23hkn</a><br/>\n",
              "            "
            ],
            "text/plain": [
              "<IPython.core.display.HTML object>"
            ]
          },
          "metadata": {
            "tags": []
          }
        },
        {
          "output_type": "stream",
          "text": [
            "Epoch 0: 391it [00:39,  5.72it/s]"
          ],
          "name": "stderr"
        },
        {
          "output_type": "stream",
          "text": [
            "train acc 41.100\n",
            "train loss 624.615263\n"
          ],
          "name": "stdout"
        },
        {
          "output_type": "stream",
          "text": [
            "\n"
          ],
          "name": "stderr"
        },
        {
          "output_type": "stream",
          "text": [
            "Test acc 49.270\n",
            "Saving..\n"
          ],
          "name": "stdout"
        }
      ]
    }
  ]
}