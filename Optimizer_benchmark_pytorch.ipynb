{
  "nbformat": 4,
  "nbformat_minor": 0,
  "metadata": {
    "colab": {
      "name": "Copy of Optimizer-benchmark-pytorch.ipynb",
      "provenance": [],
      "private_outputs": true,
      "collapsed_sections": [],
      "include_colab_link": true
    },
    "kernelspec": {
      "name": "python3",
      "display_name": "Python 3"
    },
    "accelerator": "GPU"
  },
  "cells": [
    {
      "cell_type": "markdown",
      "metadata": {
        "id": "view-in-github",
        "colab_type": "text"
      },
      "source": [
        "<a href=\"https://colab.research.google.com/github/ifeherva/optimizer-benchmark/blob/master/Optimizer_benchmark_pytorch.ipynb\" target=\"_parent\"><img src=\"https://colab.research.google.com/assets/colab-badge.svg\" alt=\"Open In Colab\"/></a>"
      ]
    },
    {
      "cell_type": "markdown",
      "metadata": {
        "id": "MmID3PR8ngYT",
        "colab_type": "text"
      },
      "source": [
        "# Benchmark a stochastic gradient descent algorithm on CIFAR10\n",
        "\n",
        "See the [github repository](https://github.com/ifeherva/optimizer-benchmark) for details."
      ]
    },
    {
      "cell_type": "markdown",
      "metadata": {
        "id": "NopfIZGtkOUL",
        "colab_type": "text"
      },
      "source": [
        "Clone github repository"
      ]
    },
    {
      "cell_type": "code",
      "metadata": {
        "id": "jKL58Eakjt9f",
        "colab_type": "code",
        "colab": {}
      },
      "source": [
        "!git clone -l -s git://github.com/ifeherva/optimizer-benchmark.git cloned-repo\n",
        "%cd cloned-repo\n",
        "!pip install tqdm wandb"
      ],
      "execution_count": 0,
      "outputs": []
    },
    {
      "cell_type": "code",
      "metadata": {
        "id": "j4kMfxvpkYoQ",
        "colab_type": "code",
        "colab": {}
      },
      "source": [
        "from train_cifar10 import parse_args, train_cifar10"
      ],
      "execution_count": 0,
      "outputs": []
    },
    {
      "cell_type": "code",
      "metadata": {
        "id": "eAevft6vkzGO",
        "colab_type": "code",
        "colab": {}
      },
      "source": [
        "run_configuration = [\n",
        "    '--model', 'resnet34',\n",
        "    '--optim', 'sgd',  # Which optimizer to use\n",
        "    '--epochs', '200',  # Default is 200\n",
        "    '--wandb-project', 'optimizer-evaluation' # Uncomment line to store data in Weights and Biases, dont' forget to create the project first!\n",
        "]\n",
        "run_config = parse_args(run_configuration)"
      ],
      "execution_count": 0,
      "outputs": []
    },
    {
      "cell_type": "markdown",
      "metadata": {
        "id": "lHPzjmaoosV3",
        "colab_type": "text"
      },
      "source": [
        "Execute training"
      ]
    },
    {
      "cell_type": "code",
      "metadata": {
        "id": "7SIV0uopoaxS",
        "colab_type": "code",
        "colab": {}
      },
      "source": [
        "train_cifar10(*run_config)"
      ],
      "execution_count": 0,
      "outputs": []
    }
  ]
}